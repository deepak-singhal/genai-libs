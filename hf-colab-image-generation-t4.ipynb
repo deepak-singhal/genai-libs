import torch
from diffusers import StableDiffusionPipeline
from IPython.display import display
from PIL import Image

model_id = "OFA-Sys/small-stable-diffusion-v0"
pipe = StableDiffusionPipeline.from_pretrained(model_id, torch_dtype=torch.float16)
pipe = pipe.to("cuda")
pipe.enable_model_cpu_offload()

prompt = "A futuristic class full of students learning AI coding in the surreal style of Salvador Dali"
image = pipe(prompt).images[0]

display(image)
